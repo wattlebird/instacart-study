{
 "cells": [
  {
   "cell_type": "code",
   "execution_count": 3,
   "metadata": {},
   "outputs": [
    {
     "name": "stdout",
     "output_type": "stream",
     "text": [
      "total 732888\r\n",
      "drwxr-xr-x 3 ike ike      4096 Feb 15 23:16 .\r\n",
      "drwxr-xr-x 3 ike ike      4096 Feb 10 13:45 ..\r\n",
      "-rw-rw-rw- 1 ike ike      2603 Jun 10  2017 aisles.csv\r\n",
      "-rw-rw-rw- 1 ike ike       270 Jun 10  2017 departments.csv\r\n",
      "-rw-r--r-- 1 ike ike  27681062 Feb 15 23:17 log.prior.small.csv\r\n",
      "-rw-r--r-- 1 ike ike   1191183 Feb 15 23:17 log.train.small.csv\r\n",
      "drwxr-xr-x 3 ike ike      4096 Feb 10 21:57 mk\r\n",
      "-rw-rw-rw- 1 ike ike 577550706 Jun 10  2017 order_products__prior.csv\r\n",
      "-rw-rw-rw- 1 ike ike  24680147 Jun 10  2017 order_products__train.csv\r\n",
      "-rw-rw-rw- 1 ike ike 108968645 Jun 10  2017 orders.csv\r\n",
      "-rw-r--r-- 1 ike ike   5238924 Feb 15 23:16 orders.small.csv\r\n",
      "-rw-rw-rw- 1 ike ike   2166953 Jun 10  2017 products.csv\r\n",
      "-rw-rw-rw- 1 ike ike   1475693 Jun 10  2017 sample_submission.csv\r\n",
      "-rw-r--r-- 1 ike ike   1475693 Feb 15 23:17 sample_submission.small.csv\r\n"
     ]
    }
   ],
   "source": [
    "!ls -la ~/Data/Instacart"
   ]
  },
  {
   "cell_type": "code",
   "execution_count": 4,
   "metadata": {},
   "outputs": [],
   "source": [
    "!rm ~/Data/Instacart/mk -rf"
   ]
  },
  {
   "cell_type": "code",
   "execution_count": 1,
   "metadata": {},
   "outputs": [],
   "source": [
    "import pandas as pd\n",
    "import numpy as np\n",
    "from setting import *\n",
    "\n",
    "orders = pd.read_csv(DATA + '/orders.small.csv', dtype={\n",
    "        'order_id': np.int32,\n",
    "        'user_id': np.int32,\n",
    "        'eval_set': 'category',\n",
    "        'order_number': np.int16,\n",
    "        'order_dow': np.int8,\n",
    "        'order_hour_of_day': np.int8,\n",
    "        'days_since_prior_order': np.float32}, engine='c').\\\n",
    "        rename(columns = {'order_dow': 'order_week', 'order_hour_of_day': 'order_hour', 'days_since_prior_order': 'order_gap'})\n"
   ]
  },
  {
   "cell_type": "code",
   "execution_count": 2,
   "metadata": {},
   "outputs": [],
   "source": [
    "log=pd.read_csv(DATA + '/log.prior.small.csv', dtype={\n",
    "            'order_id': np.int32,\n",
    "            'product_id': np.uint16,\n",
    "            'add_to_cart_order': np.int16,\n",
    "            'reordered': np.int8}, usecols=['order_id', 'product_id', 'reordered'], engine='c' )\n",
    "log.sort_values(by=['order_id', 'product_id'], inplace=True)\n",
    "log = log.reset_index(drop=True)\n"
   ]
  },
  {
   "cell_type": "code",
   "execution_count": 3,
   "metadata": {},
   "outputs": [],
   "source": [
    "log_extended = pd.merge(orders[['order_id', 'user_id', 'order_number']],\n",
    "                        log[['order_id', 'product_id']],\n",
    "                        on='order_id', how='inner')"
   ]
  },
  {
   "cell_type": "code",
   "execution_count": 4,
   "metadata": {},
   "outputs": [],
   "source": [
    "log_extended['order_number_t-1'] = \\\n",
    "log_extended.groupby(['product_id', 'user_id'])['order_number'].shift(1)"
   ]
  },
  {
   "cell_type": "code",
   "execution_count": 5,
   "metadata": {},
   "outputs": [],
   "source": [
    "product_order_number = log_extended[['product_id', 'order_number', 'order_number_t-1']].copy()\n",
    "product_order_number['item_order_number_gap'] = product_order_number['order_number']-product_order_number['order_number_t-1']"
   ]
  },
  {
   "cell_type": "code",
   "execution_count": 11,
   "metadata": {
    "scrolled": true
   },
   "outputs": [],
   "source": [
    "from scipy.stats import skew\n",
    "product_order_number_desc = product_order_number.groupby('product_id')['item_order_number_gap'].\\\n",
    "agg(['mean', 'std', 'min', 'max', 'median', lambda x: skew(x.dropna().values)])"
   ]
  },
  {
   "cell_type": "code",
   "execution_count": 12,
   "metadata": {},
   "outputs": [],
   "source": [
    "product_order_number_desc.columns = ['avg', 'std', 'min', 'max', 'median', 'skew']"
   ]
  },
  {
   "cell_type": "code",
   "execution_count": 14,
   "metadata": {},
   "outputs": [],
   "source": [
    "product_order_number_desc.add_prefix('item_order_number_gap_').to_csv(DATA+'/item_order_number_gap.csv')"
   ]
  },
  {
   "cell_type": "code",
   "execution_count": null,
   "metadata": {},
   "outputs": [],
   "source": []
  }
 ],
 "metadata": {
  "kernelspec": {
   "display_name": "Python 3",
   "language": "python",
   "name": "python3"
  },
  "language_info": {
   "codemirror_mode": {
    "name": "ipython",
    "version": 3
   },
   "file_extension": ".py",
   "mimetype": "text/x-python",
   "name": "python",
   "nbconvert_exporter": "python",
   "pygments_lexer": "ipython3",
   "version": "3.6.3"
  }
 },
 "nbformat": 4,
 "nbformat_minor": 2
}
